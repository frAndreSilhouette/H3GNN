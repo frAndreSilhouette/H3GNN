{
 "cells": [
  {
   "cell_type": "code",
   "execution_count": 7,
   "id": "88dd0839",
   "metadata": {},
   "outputs": [
    {
     "name": "stdout",
     "output_type": "stream",
     "text": [
      "2.4.0+cu118\n",
      "True\n"
     ]
    }
   ],
   "source": [
    "import torch\n",
    "print(torch.__version__)  # 应显示如 2.2.2+cu118\n",
    "print(torch.cuda.is_available())  # 应返回 True"
   ]
  },
  {
   "cell_type": "code",
   "execution_count": 1,
   "id": "17ae9e7c",
   "metadata": {},
   "outputs": [
    {
     "name": "stdout",
     "output_type": "stream",
     "text": [
      "0.7.1\n",
      "['__all__', '__builtins__', '__cached__', '__doc__', '__file__', '__loader__', '__name__', '__package__', '__path__', '__spec__', '__version__', '_constants', '_extension', '_torchdata', 'datapipes', 'janitor', 'version']\n"
     ]
    }
   ],
   "source": [
    "import torchdata\n",
    "print(torchdata.__version__)  # 检查版本\n",
    "print(dir(torchdata))         # 检查是否有'datapipes'"
   ]
  },
  {
   "cell_type": "code",
   "execution_count": 1,
   "id": "5e3ec2e1",
   "metadata": {},
   "outputs": [
    {
     "name": "stderr",
     "output_type": "stream",
     "text": [
      "/root/miniconda3/envs/myconda/lib/python3.10/site-packages/tqdm/auto.py:21: TqdmWarning: IProgress not found. Please update jupyter and ipywidgets. See https://ipywidgets.readthedocs.io/en/stable/user_install.html\n",
      "  from .autonotebook import tqdm as notebook_tqdm\n"
     ]
    }
   ],
   "source": [
    "import dgl"
   ]
  },
  {
   "cell_type": "code",
   "execution_count": 2,
   "id": "dde17b4d",
   "metadata": {},
   "outputs": [
    {
     "name": "stderr",
     "output_type": "stream",
     "text": [
      "/root/miniconda3/envs/myconda/lib/python3.10/site-packages/torch/cuda/__init__.py:654: UserWarning: Can't initialize NVML\n",
      "  warnings.warn(\"Can't initialize NVML\")\n"
     ]
    },
    {
     "name": "stdout",
     "output_type": "stream",
     "text": [
      "Tensor on GPU: tensor([[ 0.1265,  0.5468, -0.2579],\n",
      "        [-0.8488,  0.8900,  0.3783],\n",
      "        [ 0.1300, -2.5345,  0.8112]], device='cuda:0')\n",
      "Result: tensor([[ 0.2531,  1.0935, -0.5158],\n",
      "        [-1.6975,  1.7801,  0.7566],\n",
      "        [ 0.2600, -5.0690,  1.6224]], device='cuda:0')\n"
     ]
    }
   ],
   "source": [
    "import torch\n",
    "\n",
    "# 创建一个张量并将其转移到 GPU 上\n",
    "if torch.cuda.is_available():\n",
    "    tensor = torch.randn(3, 3).cuda()  # 在GPU上创建一个随机张量\n",
    "    print(f\"Tensor on GPU: {tensor}\")\n",
    "else:\n",
    "    tensor = torch.randn(3, 3)  # 在CPU上创建一个随机张量\n",
    "    print(f\"Tensor on CPU: {tensor}\")\n",
    "\n",
    "# 进行一个简单的张量操作\n",
    "result = tensor * 2\n",
    "print(f\"Result: {result}\")\n"
   ]
  }
 ],
 "metadata": {
  "kernelspec": {
   "display_name": "myconda",
   "language": "python",
   "name": "python3"
  },
  "language_info": {
   "codemirror_mode": {
    "name": "ipython",
    "version": 3
   },
   "file_extension": ".py",
   "mimetype": "text/x-python",
   "name": "python",
   "nbconvert_exporter": "python",
   "pygments_lexer": "ipython3",
   "version": "3.10.12"
  }
 },
 "nbformat": 4,
 "nbformat_minor": 5
}
